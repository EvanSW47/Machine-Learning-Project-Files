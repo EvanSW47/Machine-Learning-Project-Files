{
 "cells": [
  {
   "cell_type": "markdown",
   "metadata": {
    "id": "ACE8bKQ9Cv_5"
   },
   "source": [
    "#### MA124 Maths by Computer\n",
    "# Project: Constructing and applying Machine Learning models\n",
    "\n",
    "#### Background\n",
    "Machine Learning is the use and development of computer systems that are able to learn and adapt without following explicit instructions, by using algorithms and statistical models to analyse and draw inferences from patterns in data. In machine learning we are interested in creating functions or models which fit real data. Such functions can be found by making them dependent on a number of parameters which are updated over and over again to improve the fit to the data. You will explore in this project.\n",
    "\n",
    "#### Suggested reading\n",
    "\n",
    "There are many great articles, books, videos about machine learning. This list just picks out a few:\n",
    "\n",
    "[Linear Regression Model](https://eur01.safelinks.protection.outlook.com/?url=https%3A%2F%2Fbuiltin.com%2Fdata-science%2Fregression-machine-learning&data=05%7C02%7Cr.m.lissaman%40warwick.ac.uk%7Cd1a1c7aea6f24f64013008dc11660633%7C09bacfbd47ef446592653546f2eaf6bc%7C0%7C0%7C638404377086620510%7CUnknown%7CTWFpbGZsb3d8eyJWIjoiMC4wLjAwMDAiLCJQIjoiV2luMzIiLCJBTiI6Ik1haWwiLCJXVCI6Mn0%3D%7C3000%7C%7C%7C&sdata=qRO9I25r9ACsSVXLa0vJXZNj%2BTK4Ha2iW7HzGoEKYlc%3D&reserved=0). Short, simple article covering a task similar to A2 below.\n",
    "\n",
    "[Logistic Regression Model](http://cs231n.github.io/neural-networks-case-study/) An article which covers models similar to those in A3 and A4 below.\n",
    "\n",
    "[What is a neural network](https://www.youtube.com/watch?v=aircAruvnKk). Great YouTube series of introductory videos about training neural networks by the excellent 3Blue1Brown, well worth watching.\n",
    "\n",
    "[Blog: An Introduction to Neural Networks](https://victorzhou.com/blog/intro-to-neural-networks/). Good discussion of the basic ideas used in this project. \n",
    "\n",
    "[Hands on Machine Learning with Python](https://0-link-springer-com.pugwash.lib.warwick.ac.uk/book/10.1007/978-1-4842-7921-2) This might accompany a full course on machine learning. It has much more detail that you will need. As the title says, it's all done using Python. It's well-written and popular.\n",
    "\n",
    "#### Struture of project\n",
    "\n",
    "There are 6 tasks in the document below, tasks A1-A4 in Section A and then tasks B1 and B2 in section B. Your group should do all the  tasks in section A and at least one of the two tasks in section B. A1-A4 are worth approximately 60% of the credit for this submission and section B is worth approximately the other 40%.\n",
    "\n",
    "#### Notes on submission\n",
    "Read through the document **MA124 Maths by Computer Tutor Group Projects Information for Students.pdf** on the MA124 Moodle page.\n",
    "\n",
    "Before submitting see the notes at the end of this document.\n",
    "\n",
    "#### Allowed libraries for this project:\n",
    "numpy matplotlib copy pandas scikitlearn. **Note you may not use scikitlearn in any of tasks A2, A3 or A4.**\n",
    "\n",
    "This means that you may include these lines of code at the start of of your code cells (and please use the aliases given below)."
   ]
  },
  {
   "cell_type": "code",
   "execution_count": 41,
   "metadata": {},
   "outputs": [],
   "source": [
    "import numpy as np\n",
    "import matplotlib.pyplot as plt\n",
    "import pandas as pd\n",
    "import copy\n",
    "import sklearn # Not to be used in any of tasks A2, A3 or A4."
   ]
  },
  {
   "cell_type": "markdown",
   "metadata": {
    "id": "ZZ59KgiHCv_8"
   },
   "source": [
    "## Section A - (worth approximately 60% of the marks)"
   ]
  },
  {
   "cell_type": "markdown",
   "metadata": {
    "id": "qvcq6JPLCv_8"
   },
   "source": [
    "### Task A1 - Linear Regression machine learning task using SciKitLearn (worth approximately 20% of the marks)\n",
    "\n",
    "In a recent research article published in the journal Computer Communications, authors Sathishkumar V E, Jangwoo Park, and Yongyun Cho sought to predict the \"bike count required at each hour for the stable supply of rental bikes\"[1]. They employed several regression models, including linear regression. The dataset used in the original study is available [here](https://archive.ics.uci.edu/ml/datasets/Seoul+Bike+Sharing+Demand).\n",
    "\n",
    "**Task:** Apply machine learning to a modified version of the original dataset and report the results.\n",
    "\n",
    "\n",
    "[1] Sathishkumar V E, Jangwoo Park, and Yongyun Cho. 'Using data mining techniques for bike sharing demand prediction in metropolitan city.' Computer Communications, Vol.153, pp.353-366, March, 2020 [web link](https://doi.org/10.1016/j.comcom.2020.02.007).\n",
    "\n",
    "---\n",
    "\n",
    "The original research article and a modified dataset are posted on the MA124 Moodle page in the resources for this project. You will need to refer to the article for some of the tasks below. You will need to download SeoulBikeData_mod.csv and put it into the folder with this file.\n",
    "\n",
    "SeoulBikeData_mod.csv has been modified from the original dataset to remove the categorical variables, and to convert dates to months. Months have been coded by number, e.g. 1 = January, etc. Only half the months are included in the modified dataset.\n",
    "\n",
    "---\n",
    "\n",
    "While the number of tasks is large, this is in part because the instructions are rather specific. Many of them are very similar to things you saw in term 1, in the week 8 and week 10 notebooks and lectures.\n",
    "\n",
    "**Specifically, your code should**\n",
    "\n",
    "1. Import needed libraries. (You will need pandas, as well as things from sklearn, and of course numpy and matplotlib.)\n",
    "\n",
    "2. Using pandas, read SeoulBikeData_mod.csv into a Dataframe.\n",
    "\n",
    "3. `describe` the Dataframe.\n",
    "\n",
    "4. Plot a histogram of `Rented Bike Count`. Do not plot this as a density, but as a count. See Fig. 3 of the article. The vertical axis in the article is labelled \"frequency\", but is the same as the count.\n",
    "\n",
    "    Produce a box plot similar to that in Fig. 3 of the article.\n",
    "    \n",
    "    Try to generate both the histogram and box plot to look approximately as they do in the article.\n",
    "\n",
    "5. From the full Dataframe, create a new Dataframe `X` containing all the columns except `Rented Bike Count` and a Series `y` containing only the `Rented Bike Count` column. These are your design matrix and target respectively.\n",
    "\n",
    "6. Perform a test-train split to create `X_train`, `X_test`, `y_train` and `y_test`. You **must** use the same percentage of data for testing and training as was used in the article and you **must** state what they are. You can find these in the article.\n",
    "\n",
    "7. Create and train a linear regression model.\n",
    "\n",
    "8. Use the trained model to obtain `y_pred`, the prediction on the test data `X_test`. Form the residual `resid = y_test - y_pred`.\n",
    "\n",
    "9. Compute and report: Rsquared (R2), the Root Mean Squared Error (RMSE), the Mean Absolute Error (MAE), and the Coefficient of Variation (CV). Compare these results to those on the top, right of Table 4 of the article. (Note, the modified dataset we are studying is different from that used in the article. Hence the results will not be identical. However, the procedure is very close to that used in the article.)\n",
    "\n",
    "10. Produce and comment on the following plots.\n",
    "\n",
    "- Histograms of `y_test` and of `y_pred` (on the same plot). These should be reported as counts rather than densities.\n",
    "\n",
    "- A scatter plot of `resid` as a function of `y_test` corresponding to Fig. 9 of the article. (Recall what `y_test` represents and label the plot appropriately.) Unlike Fig. 9 of the paper, you should use a colormap to plot the different `Hours` in different colours.\n",
    "\n",
    "- A scatter plot of `resid` as a function of `X_test['Month']`. Use a colormap to indicate the absolute value of `resid`.\n",
    "\n",
    "- A scatter plot of `resid` as a function of `X_test['Rainfall(mm)']`. Use a colormap to indicate the absolute value of `resid`.\n",
    "\n",
    "*Insert code and markdown cells below in which to answer this.*"
   ]
  },
  {
   "cell_type": "code",
   "execution_count": 42,
   "metadata": {},
   "outputs": [
    {
     "data": {
      "text/html": [
       "<div>\n",
       "<style scoped>\n",
       "    .dataframe tbody tr th:only-of-type {\n",
       "        vertical-align: middle;\n",
       "    }\n",
       "\n",
       "    .dataframe tbody tr th {\n",
       "        vertical-align: top;\n",
       "    }\n",
       "\n",
       "    .dataframe thead th {\n",
       "        text-align: right;\n",
       "    }\n",
       "</style>\n",
       "<table border=\"1\" class=\"dataframe\">\n",
       "  <thead>\n",
       "    <tr style=\"text-align: right;\">\n",
       "      <th></th>\n",
       "      <th>Rented Bike Count</th>\n",
       "      <th>Hour</th>\n",
       "      <th>Temperature(°C)</th>\n",
       "      <th>Humidity(%)</th>\n",
       "      <th>Wind speed (m/s)</th>\n",
       "      <th>Visibility (10m)</th>\n",
       "      <th>Dew point temperature(°C)</th>\n",
       "      <th>Solar Radiation (MJ/m2)</th>\n",
       "      <th>Rainfall(mm)</th>\n",
       "      <th>Snowfall (cm)</th>\n",
       "      <th>Month</th>\n",
       "    </tr>\n",
       "  </thead>\n",
       "  <tbody>\n",
       "    <tr>\n",
       "      <th>count</th>\n",
       "      <td>4416.000000</td>\n",
       "      <td>4416.00000</td>\n",
       "      <td>4416.000000</td>\n",
       "      <td>4416.000000</td>\n",
       "      <td>4416.000000</td>\n",
       "      <td>4416.000000</td>\n",
       "      <td>4416.000000</td>\n",
       "      <td>4416.000000</td>\n",
       "      <td>4416.000000</td>\n",
       "      <td>4416.000000</td>\n",
       "      <td>4416.000000</td>\n",
       "    </tr>\n",
       "    <tr>\n",
       "      <th>mean</th>\n",
       "      <td>704.591259</td>\n",
       "      <td>11.50000</td>\n",
       "      <td>13.203986</td>\n",
       "      <td>59.257246</td>\n",
       "      <td>1.653193</td>\n",
       "      <td>1398.641304</td>\n",
       "      <td>4.723958</td>\n",
       "      <td>0.560181</td>\n",
       "      <td>0.139312</td>\n",
       "      <td>0.070879</td>\n",
       "      <td>5.956522</td>\n",
       "    </tr>\n",
       "    <tr>\n",
       "      <th>std</th>\n",
       "      <td>637.407244</td>\n",
       "      <td>6.92297</td>\n",
       "      <td>11.529724</td>\n",
       "      <td>20.162981</td>\n",
       "      <td>0.976361</td>\n",
       "      <td>621.560536</td>\n",
       "      <td>12.671445</td>\n",
       "      <td>0.860496</td>\n",
       "      <td>1.145271</td>\n",
       "      <td>0.437416</td>\n",
       "      <td>3.407262</td>\n",
       "    </tr>\n",
       "    <tr>\n",
       "      <th>min</th>\n",
       "      <td>0.000000</td>\n",
       "      <td>0.00000</td>\n",
       "      <td>-17.800000</td>\n",
       "      <td>0.000000</td>\n",
       "      <td>0.000000</td>\n",
       "      <td>27.000000</td>\n",
       "      <td>-30.600000</td>\n",
       "      <td>0.000000</td>\n",
       "      <td>0.000000</td>\n",
       "      <td>0.000000</td>\n",
       "      <td>1.000000</td>\n",
       "    </tr>\n",
       "    <tr>\n",
       "      <th>25%</th>\n",
       "      <td>189.000000</td>\n",
       "      <td>5.75000</td>\n",
       "      <td>4.500000</td>\n",
       "      <td>44.000000</td>\n",
       "      <td>0.900000</td>\n",
       "      <td>853.000000</td>\n",
       "      <td>-3.500000</td>\n",
       "      <td>0.000000</td>\n",
       "      <td>0.000000</td>\n",
       "      <td>0.000000</td>\n",
       "      <td>3.000000</td>\n",
       "    </tr>\n",
       "    <tr>\n",
       "      <th>50%</th>\n",
       "      <td>542.000000</td>\n",
       "      <td>11.50000</td>\n",
       "      <td>14.300000</td>\n",
       "      <td>58.000000</td>\n",
       "      <td>1.500000</td>\n",
       "      <td>1621.000000</td>\n",
       "      <td>6.400000</td>\n",
       "      <td>0.010000</td>\n",
       "      <td>0.000000</td>\n",
       "      <td>0.000000</td>\n",
       "      <td>5.000000</td>\n",
       "    </tr>\n",
       "    <tr>\n",
       "      <th>75%</th>\n",
       "      <td>1047.000000</td>\n",
       "      <td>17.25000</td>\n",
       "      <td>22.200000</td>\n",
       "      <td>75.000000</td>\n",
       "      <td>2.200000</td>\n",
       "      <td>1999.000000</td>\n",
       "      <td>14.900000</td>\n",
       "      <td>0.910000</td>\n",
       "      <td>0.000000</td>\n",
       "      <td>0.000000</td>\n",
       "      <td>9.000000</td>\n",
       "    </tr>\n",
       "    <tr>\n",
       "      <th>max</th>\n",
       "      <td>3298.000000</td>\n",
       "      <td>23.00000</td>\n",
       "      <td>38.000000</td>\n",
       "      <td>98.000000</td>\n",
       "      <td>6.700000</td>\n",
       "      <td>2000.000000</td>\n",
       "      <td>26.800000</td>\n",
       "      <td>3.520000</td>\n",
       "      <td>35.000000</td>\n",
       "      <td>8.800000</td>\n",
       "      <td>11.000000</td>\n",
       "    </tr>\n",
       "  </tbody>\n",
       "</table>\n",
       "</div>"
      ],
      "text/plain": [
       "       Rented Bike Count        Hour  Temperature(°C)  Humidity(%)  \\\n",
       "count        4416.000000  4416.00000      4416.000000  4416.000000   \n",
       "mean          704.591259    11.50000        13.203986    59.257246   \n",
       "std           637.407244     6.92297        11.529724    20.162981   \n",
       "min             0.000000     0.00000       -17.800000     0.000000   \n",
       "25%           189.000000     5.75000         4.500000    44.000000   \n",
       "50%           542.000000    11.50000        14.300000    58.000000   \n",
       "75%          1047.000000    17.25000        22.200000    75.000000   \n",
       "max          3298.000000    23.00000        38.000000    98.000000   \n",
       "\n",
       "       Wind speed (m/s)  Visibility (10m)  Dew point temperature(°C)  \\\n",
       "count       4416.000000       4416.000000                4416.000000   \n",
       "mean           1.653193       1398.641304                   4.723958   \n",
       "std            0.976361        621.560536                  12.671445   \n",
       "min            0.000000         27.000000                 -30.600000   \n",
       "25%            0.900000        853.000000                  -3.500000   \n",
       "50%            1.500000       1621.000000                   6.400000   \n",
       "75%            2.200000       1999.000000                  14.900000   \n",
       "max            6.700000       2000.000000                  26.800000   \n",
       "\n",
       "       Solar Radiation (MJ/m2)  Rainfall(mm)  Snowfall (cm)        Month  \n",
       "count              4416.000000   4416.000000    4416.000000  4416.000000  \n",
       "mean                  0.560181      0.139312       0.070879     5.956522  \n",
       "std                   0.860496      1.145271       0.437416     3.407262  \n",
       "min                   0.000000      0.000000       0.000000     1.000000  \n",
       "25%                   0.000000      0.000000       0.000000     3.000000  \n",
       "50%                   0.010000      0.000000       0.000000     5.000000  \n",
       "75%                   0.910000      0.000000       0.000000     9.000000  \n",
       "max                   3.520000     35.000000       8.800000    11.000000  "
      ]
     },
     "execution_count": 42,
     "metadata": {},
     "output_type": "execute_result"
    }
   ],
   "source": [
    "#1.\n",
    "import pandas as pd\n",
    "import sklearn\n",
    "import numpy as np\n",
    "import matplotlib.pyplot as plt\n",
    "\n",
    "#2.\n",
    "dataframe = pd.read_csv('SeoulBikeData_mod.csv')\n",
    "\n",
    "#3.\n",
    "dataframe.describe()"
   ]
  },
  {
   "cell_type": "code",
   "execution_count": 43,
   "metadata": {},
   "outputs": [
    {
     "data": {
      "image/png": "[encoded data removed]",
      "text/plain": [
       "<Figure size 640x480 with 1 Axes>"
      ]
     },
     "metadata": {},
     "output_type": "display_data"
    }
   ],
   "source": [
    "#4.\n",
    "hist = dataframe['Rented Bike Count'].hist(grid=False,bins=20)\n",
    "plt.xlabel('Rented Bike Count')\n",
    "plt.ylabel('Count')\n",
    "plt.show()"
   ]
  },
  {
   "cell_type": "code",
   "execution_count": 44,
   "metadata": {},
   "outputs": [
    {
     "data": {
      "text/plain": [
       "<Axes: >"
      ]
     },
     "execution_count": 44,
     "metadata": {},
     "output_type": "execute_result"
    },
    {
     "data": {
      "image/png": "[encoded data removed]",
      "text/plain": [
       "<Figure size 640x480 with 1 Axes>"
      ]
     },
     "metadata": {},
     "output_type": "display_data"
    }
   ],
   "source": [
    "dataframe.boxplot('Rented Bike Count',grid=False,vert=False)"
   ]
  },
  {
   "cell_type": "code",
   "execution_count": 45,
   "metadata": {},
   "outputs": [],
   "source": [
    "#5.\n",
    "x = dataframe.drop('Rented Bike Count', axis=1)\n",
    "y = pd.Series(dataframe['Rented Bike Count'])"
   ]
  },
  {
   "cell_type": "code",
   "execution_count": 46,
   "metadata": {},
   "outputs": [],
   "source": [
    "#6.\n",
    "\n",
    "import sklearn.model_selection as ms\n",
    "\n",
    "\n",
    "x_train, x_test, y_train, y_test = ms.train_test_split(x, y, test_size=0.25, train_size=0.75)\n",
    "\n",
    "#75% used for training, 25% used for testing | Section 4.2 of article"
   ]
  },
  {
   "cell_type": "code",
   "execution_count": 47,
   "metadata": {},
   "outputs": [
    {
     "name": "stdout",
     "output_type": "stream",
     "text": [
      "385\n"
     ]
    }
   ],
   "source": [
    "#7.\n",
    "\n",
    "from sklearn import linear_model\n",
    "\n",
    "regr = linear_model.LinearRegression()\n",
    "regr.fit(x_train,y_train)\n",
    "\n",
    "#8.\n",
    "y_pred = regr.predict(x_test)\n",
    "resid = y_test - y_pred\n",
    "\n",
    "\n",
    "#9.\n",
    "def calcSS(arr):\n",
    "    tot = 0\n",
    "    for i in arr:\n",
    "        tot += i**2\n",
    "    return tot\n",
    "\n",
    "print(calcSS([i for i in range(1,11)]))\n",
    "\n",
    "R2 = 0 #Rsquared\n",
    "\n",
    "RMSE = 0 #Root Mean Squared Error\n",
    "\n",
    "MAE = 0 #Mean Absolute Error\n",
    "\n",
    "CV = 0 #Coefficient of Variation"
   ]
  },
  {
   "cell_type": "markdown",
   "metadata": {
    "id": "vIzMRAGWCv_9"
   },
   "source": [
    "### Task A2 Linear Regression, on a very small dataset, from scratch with only numpy (worth approximately 10% of the marks)\n",
    "#### (illustrating idea of rates of change with respect to the model parameters and gradient descent)\n",
    "\n",
    "Consider a really small dataset consisting of only three points in the plane: $(1,1),(2,4),(3,5)$.\n",
    "\n",
    "For each point (training example) consider the $x$-coordinate as a single input feature, and the $y$-coordinate as the output or label of the example. The objective is to find the best line to fit these data. Here 'best' will mean the line which minimises the mean of the sum of the squares of the residuals with respect to the three points.\n",
    "\n",
    "In this task and in the following tasks A3 and A4 we will use a slightly different convention to store our data with respect to the one used in A1 or the lectures. $X_{\\text{train}}$ and $y_{\\text{train}}$ will now be the transpose of the corresponding matrices in A1. In A3 and A4 this will be a more convenient form for applying functions given by matrices to the data with the matrix on the left of the data matrix.\n",
    "\n",
    "The feature matrix $X_{\\text{train}}$ contains the feature vectors for all the training examples. More precisely $X_{\\text{train}}= \\begin{pmatrix} 1 & 2 & 3 \\end{pmatrix} $ has one column for each training example and each column is the feature vector for that training example (in this case we have only one feature which is the $x$-coordinate).\n",
    "\n",
    "The labels matrix $y_{\\text{train}}$ contains the labels for all the training examples. More precisely $y_{\\text{train}} = \\begin{pmatrix} 1 & 4 & 5\\end{pmatrix}$ has one column for each training example and each column contains the label for that training example (the $y$-coordinate).\n",
    "\n",
    "The model here is a simple linear model\n",
    "\n",
    "$$\n",
    "\\hat y = mx +c\n",
    "$$\n",
    "\n",
    "with trainable parameters $m$ and $c$. The goal is to find the optimal values of $m$ and $c$ to fit these training data. In the Machine Learning context this means defining a loss function between prediction and true label:\n",
    "\n",
    "$$\n",
    "L(\\hat y, y)=(\\hat y - y)^2\n",
    "$$\n",
    "\n",
    "and a cost function which is simply the average on all training examples of these losses.\n",
    "\n",
    "**Specifically, you should**\n",
    "\n",
    "1. Show, in a markdown cell, how the cost $J$ depends only on the trainable parameters $m$ and $c$, and can be computed to be:\n",
    "$$ J=\\displaystyle\\frac{14m^2+12cm-48m+3c^2-20c+42}{3}$$\n",
    "\n",
    "2. Find, in a markdown cell, expressions for the partial derivatives $\\displaystyle\\frac{\\partial J}{\\partial m}$ and $\\displaystyle\\frac{\\partial J}{\\partial c}$.\n",
    "3. Write a function `model1(alpha, num_iterations)` which takes as inputs a  learning rate `alpha` and a number of iterations `num_iterations`, and returns optimized values of $m$ and $c$ through Gradient Descent. More precisely the function should initialize $m$ and $c$ randomly between $-2$ and $2$ and then perform `num_iterations` steps of gradient descent with learning rate `alpha`. This means that the value of $m$ is updated to $m - \\displaystyle\\frac{\\partial J}{\\partial m}\\alpha$ and the value of $c$ is updated to $c - \\displaystyle\\frac{\\partial J}{\\partial c}\\alpha$ in each iteration.\n",
    "Your function should print the cost $J$ periodically throughout the iteration process. You may wish to refer to the Machine learning project lecture for help with this. You may wish to build helper functions for the various tasks you need this function to do and refer to them.\n",
    "4. Plot the 3 datapoints along with the optimal line $mx+c$ your model has found.\n",
    "5. Explore the effect of changing the learning rate and the number of iterations.\n",
    "\n",
    "*Insert code and markdown cells here in which to answer this task*"
   ]
  },
  {
   "cell_type": "markdown",
   "metadata": {},
   "source": [
    "$f(x)=dkfkdfk$"
   ]
  },
  {
   "cell_type": "markdown",
   "metadata": {
    "id": "swafy0AtCv_9"
   },
   "source": [
    "### Task A3 Machine Learning for binary classification using Logistic Regression (worth approximately 10% of the marks)\n",
    "\n",
    "Here you will start by running some code provided to you which will create a dataset. You will use this to train a Logistic Regression classification model. \n",
    "\n",
    "The dataset consists of a set of points $(x_0, x_1)$ in the plane each of which is either blue or red. Your model will take as input the coordinates of a point in the plane and return 0 if the point is likely to be red, or 1 if the point is likely to be blue. In practice your model will output a float (real number) between 0 and 1 which is the probability for the point to be blue, and you will then use 0.5 as a threshold to predict the point as being blue or red.\n",
    "\n",
    "**You are guided through this task below. You will see code cells that you need to run and code cells that you need to edit/complete. You can also add new code/markdown cells as required. You may wish to add markdown cells to comment on your code or to comment on any outputs you see.**\n",
    "\n",
    "#### Create and visualise the dataset\n",
    "\n",
    "**Run the cell below to create a planar dataset.** A visualisation of this is provided, you will see that it looks like a flower with some red points and some blue points."
   ]
  },
  {
   "cell_type": "code",
   "execution_count": 48,
   "metadata": {
    "colab": {
     "base_uri": "https://localhost:8080/",
     "height": 430
    },
    "id": "qVndz7rIQtvj",
    "outputId": "8b8da36c-5c1c-4258-ef44-5487a51445c4"
   },
   "outputs": [
    {
     "data": {
      "image/png": "[encoded data removed]",
      "text/plain": [
       "<Figure size 640x480 with 1 Axes>"
      ]
     },
     "metadata": {},
     "output_type": "display_data"
    }
   ],
   "source": [
    "# Create the flower dataset\n",
    "\n",
    "import numpy as np\n",
    "import matplotlib.pyplot as plt\n",
    "\n",
    "def load_flower_dataset():\n",
    "    np.random.seed(1)\n",
    "\n",
    "    m = 400 # number of examples\n",
    "    N = int(m/2) # number of points per class\n",
    "    D = 2 # dimensionality\n",
    "\n",
    "    X = np.zeros((m,D)) # data matrix where each row is a single example\n",
    "    y = np.zeros((m,1), dtype='uint8') # labels vector (0 for red, 1 for blue)\n",
    "    a = 4 # maximum ray of the flower\n",
    "\n",
    "    for j in range(2):\n",
    "        ix = range(N*j,N*(j+1))\n",
    "        t = np.linspace(j*3.12,(j+1)*3.12,N) + np.random.randn(N)*0.2 # theta\n",
    "        r = a*np.sin(4*t) + np.random.randn(N)*0.2 # radius\n",
    "        X[ix] = np.c_[r*np.sin(t), r*np.cos(t)]\n",
    "        y[ix] = j\n",
    "\n",
    "    X = X.T\n",
    "    y = y.T\n",
    "\n",
    "    return X, y\n",
    "\n",
    "# Load the dataset:\n",
    "X, y = load_flower_dataset()\n",
    "\n",
    "# Visualize the dataset:\n",
    "plt.scatter(X[0, :], X[1, :], c=y, s=40, cmap=plt.cm.Spectral);"
   ]
  },
  {
   "cell_type": "markdown",
   "metadata": {
    "id": "9YaeLo6OwO9Q"
   },
   "source": [
    "You will see that you have some red points (which have label $y=0$) and some blue points (which have label $y=1$).\n",
    "\n",
    "More precisely you have created two vectors `X` and `y` (shorthands for $X_{\\text{train}}$ and $y_{\\text{train}}$) containing 400 training examples:\n",
    "- The numpy-array `X` of dimensions (2, 400), every column of `X` is the feature vector for a single training example and contains the coordinates of the point: $\\begin{pmatrix} x_0 \\\\ x_1\\end{pmatrix}$.\n",
    "- The numpy-array `y` of dimensions (1,400), every column of `y` contains the label for a single training example (0 for red, 1 for blue). \n",
    "- The columns of `X` correspond to the columns of `y`, i.e. the point in the first column of `X` corresponds to the first entry in `y` and so on.\n",
    "\n",
    "Your goal is to build a model to fit this data. In other words, you want the model to define regions of the plane as either red or blue. Red regions will correspond to points $(x_0,x_1)$ where the model returns a value less than 0.5 and with any other parts of the plane being blue regions."
   ]
  },
  {
   "cell_type": "markdown",
   "metadata": {
    "id": "-t2aGfJwlnL5"
   },
   "source": [
    "Let's start by building a logistic regression model and then measuring its performance on this problem. You will build it in numpy from scratch. "
   ]
  },
  {
   "cell_type": "markdown",
   "metadata": {
    "id": "5BPaJL8DKfoM"
   },
   "source": [
    "These are the steps to build your model.\n",
    "\n",
    "1. Define the structure:\n",
    "$$\n",
    "\\hat y = \\sigma\\left( W \\cdot x+b \\right)=\\sigma\\left(\\begin{pmatrix} w_0 & w_1\\end{pmatrix}\\cdot \\begin{pmatrix}x_0 \\\\ x_1\\end{pmatrix}+b\\right).\n",
    "$$\n",
    "Here the notation is the same as the one in the lecture presentation for this project. In this case, for each example, we take a linear combination $w_0x_0+w_1x_1+b$ of the input features $x_0$ and $x_1$), where $w_0,w_1,b$ are real numbers, followed by a *sigmoid* activation function $\\sigma(\\lambda)=\\displaystyle\\frac{1}{1+\\exp(-\\lambda)}$.  The output $\\hat y$ is the model's predicted probability that the point $x=\\begin{pmatrix}x_0 \\\\ x_1\\end{pmatrix}$ is blue. Here $W = \\begin{pmatrix} w_0 & w_1\\end{pmatrix}$ is known as the weight matrix and $b$ is the bias vector (which in this special case will actually be a single value, a $1\\times 1$ matrix).\n",
    "\n",
    "2. Initialize the model's trainable parameters $W$ and $b$.\n",
    "\n",
    "3. The training loop is then as follows:\n",
    "    - Implement forward propagation:  compute an array whose entries are $\\hat{y}^{(i)}$ for each training example, with the current values of $W$ and $b$. Here $\\hat{y}^{(i)}$ is the output probability for example in column $i$ of $X$.\n",
    "    - Compute the cost $J$ for the current values of the parameters.\n",
    "    - Implement backward propagation to get the gradients, i.e. the rate of change of the $J$ with respect to each of $w_0,w_1$ and $b$ at their current values.\n",
    "    - Update the parameters using these gradients. This is known as gradient descent.\n",
    "\n",
    "In practice, you'll build helper functions for each of these steps, and then merge them into one function called `model()`. Once you've built `model()` and used it to optimise the parameters, you can make predictions on new data."
   ]
  },
  {
   "cell_type": "markdown",
   "metadata": {
    "id": "23p-xPYhrZar"
   },
   "source": [
    "#### Initialize parameters\n",
    "\n",
    "**Complete the function `initialize_parameters` started below.** It takes in the dimension of the input layer `n_X` and the dimension of the output layer `n_y` and returns returns a Python dictionary `parameters`. The dictionary `parameters` contains the initialized parameters of the model: the weight matrix `W` and the bias vector `b`.\n",
    "\n",
    "Note that `n_X = 2` in our example, each point has two input coordinates,  and the dimension of the output layer is `n_y = 1`. This means that `W` will be a $1\\times 2$ matrix and `b` will be a $1\\times 1$ matrix for our example. However we would like our function to work more generally, and be in a form which can be adapted for use later on in this project, so we'd like the user to be able to specify `n_X` and `n_y` as inputs to `initialize_parameters`.\n",
    "\n",
    "- Use: `np.random.randn(n,m) * 0.01` to randomly initialize a matrix of the required shape for `W`.\n",
    "- Initialize the bias vector `b` so that all of its entries are zero.\n",
    "- Return both of these in a dictionary called `parameters` with names *W* and *b* respectively.\n",
    "\n",
    "**Once you have completed the code run this cell.**"
   ]
  },
  {
   "cell_type": "code",
   "execution_count": 49,
   "metadata": {
    "id": "CJLUZqQerZar"
   },
   "outputs": [],
   "source": [
    "def initialize_parameters(n_X, n_y):\n",
    "    \"\"\"\n",
    "    Argument:\n",
    "    n_X -- integer\n",
    "    n_y -- integer\n",
    "\n",
    "    Returns:\n",
    "    parameters -- python dictionary containing your parameters:\n",
    "                    W -- weight matrix\n",
    "                    b -- bias vector\n",
    "    \"\"\"\n",
    "\n",
    "    #Initialize weight matrix nd bias vector\n",
    "    W = np.random.randn(n_y,n_X) * 0.01\n",
    "    b = np.zeros((n_y,1)) \n",
    "\n",
    "    #Store W and b in a dictionary parameters\n",
    "    parameters = {\"W\": W,\n",
    "                  \"b\": b}\n",
    "\n",
    "    return parameters"
   ]
  },
  {
   "cell_type": "markdown",
   "metadata": {
    "id": "Ry0chdoVrZas"
   },
   "source": [
    "#### Forward Propagation\n",
    "\n",
    "Next you will implement forward propagation for logistic regression:\n",
    "\n",
    "$$\n",
    "z = WX + b \\text{ and then } \n",
    "\\hat y = \\sigma(z)\n",
    "$$\n",
    "\n",
    "As above, for $\\lambda\\in\\mathbb{R}$, $\\sigma(\\lambda)=\\displaystyle\\frac{1}{1+\\exp(-\\lambda)}$ (this is applied entry-wise to $z$ in the above). \n",
    "\n",
    "**Start by implementing the sigmoid function in numpy by replacing *None* in the code cell below with appropriate code. Then run the cell.**"
   ]
  },
  {
   "cell_type": "code",
   "execution_count": 50,
   "metadata": {
    "id": "TlrriuilOnKy"
   },
   "outputs": [],
   "source": [
    "def sigmoid(z):\n",
    "    \"\"\"\n",
    "    Argument:\n",
    "    z -- input data, numpy array\n",
    "\n",
    "    Returns:\n",
    "    numpy array that contains sigmoid function applied to each\n",
    "    element of z.\n",
    "    \"\"\"\n",
    "    y_hat = np.zeros(z.shape)\n",
    "    for i in range(z.size):\n",
    "        y_hat[0][i] = (1/(1+np.exp(-z[0][i])))\n",
    "    return y_hat"
   ]
  },
  {
   "cell_type": "markdown",
   "metadata": {
    "id": "dIpGGh2pbdQS"
   },
   "source": [
    "**Complete the function `forward_propagation` started below.** It calculates the output of the logistic regression model, called `y_hat`, and returns (as a tuple) `y_hat` and `z` (in the notation given above).\n",
    "\n",
    "**Once you have completed the code run this cell.**"
   ]
  },
  {
   "cell_type": "code",
   "execution_count": 51,
   "metadata": {
    "id": "IH8ZYSFMrZat"
   },
   "outputs": [],
   "source": [
    "def forward_propagation(X, parameters):\n",
    "    \"\"\"\n",
    "    Argument:\n",
    "    X -- input data, numpy array of dimension (2, 400). Every column of X\n",
    "         is the feature vector for a single training example (input of the logistic regression)\n",
    "    parameters -- python dictionary containing the values of W and b to be used\n",
    "                  to compute the forward propagation.\n",
    "\n",
    "    Returns:\n",
    "    y_hat -- numpy array of dimension (1,400). Every column of y_hat is the\n",
    "             output probability of the logistic regression for that training example.\n",
    "    z -- numpy array of dimension (1,400), result of linear transformation before sigmoid activation is applied.\n",
    "    \"\"\"\n",
    "\n",
    "    # retrieve W and b from the dictionary \"parameters\"\n",
    "    W = parameters[\"W\"]\n",
    "    b = parameters['b']\n",
    "\n",
    "    # compute z\n",
    "    z = np.dot(W,X) + b\n",
    "\n",
    "    # Compute y_hat\n",
    "    y_hat = sigmoid(z)\n",
    "\n",
    "    return y_hat, z"
   ]
  },
  {
   "cell_type": "markdown",
   "metadata": {
    "id": "NTI9BdfPowOx"
   },
   "source": [
    "#### Compute cost\n",
    "\n",
    "Given the predictions $\\hat y^{(i)}$ on all the training examples, you can compute the cost $J$ as the average over all training examples of the losses:\n",
    "$$\n",
    "J = \\frac{1}{m} \\sum\\limits_{i = 0}^{m} L(\\hat y^{(i)}, y^{(i)})  .\n",
    "$$\n",
    "Here we are using the binary cross-entropy loss:\n",
    "$$\n",
    "L(\\hat y^{(i)}, y^{(i)}) = -\\large\\left(\\small y^{(i)}\\log\\left(\\hat y^{(i)}\\right) + (1-y^{(i)})\\log\\left(1- \\hat y^{(i)}\\right)  \\large  \\right).\n",
    "$$\n",
    "\n",
    "Recall $y^{(i)}$ is the $i^{\\text{th}}$ component in $y$, i.e. the label for example $i$ and $\\hat{y}^{(i)}$ is the models current prediction of this label, the $i^{\\text{th}}$ component in $\\hat{y}$.\n",
    "\n",
    "**Complete the function `compute_cost()`, started below, to compute the value of the cost $J$:**\n",
    "\n",
    "1. First compute the vector of losses element-wise using the numpy arrays given as inputs `y_hat` and `y`.\n",
    "\n",
    "2. Sum the losses and divide by the number of training examples `m`. Call this value `cost`.\n",
    "\n",
    "3. Cast `cost` as type `float` using `float()` and return it.\n",
    "\n",
    "**Once you have completed the code run this cell.**"
   ]
  },
  {
   "cell_type": "code",
   "execution_count": 52,
   "metadata": {
    "id": "r3efjlirrZat"
   },
   "outputs": [],
   "source": [
    "def compute_cost(y_hat, y):\n",
    "    \"\"\"\n",
    "    Arguments:\n",
    "    y_hat -- numpy array, output of forward propagation\n",
    "    y -- numpy array of the same shape as y_hat, containing the true labels (0 for red, 1 for blue)\n",
    "\n",
    "    Returns:\n",
    "    cost -- a float which is the cross-entropy cost\n",
    "    \"\"\"\n",
    "\n",
    "    # retrieve number of training examples from the shape of y\n",
    "    m = y.size\n",
    "\n",
    "    # compute the vector of losses by computing the cross-entropy loss element-wise\n",
    "    L = np.zeros((1,m))\n",
    "    for i in range(m):\n",
    "        yi = y[0][i]\n",
    "        y_hati = y_hat[0][i]\n",
    "        L[0][i] = -(yi*np.log(y_hati) + (1-yi)*np.log(1-y_hati))\n",
    "\n",
    "    # compute the total cost by averaging the loss over all training examples\n",
    "    J = 1/m * np.sum(L)\n",
    "\n",
    "\n",
    "    # cast cost as a float\n",
    "    cost = float(J)\n",
    "\n",
    "    return cost"
   ]
  },
  {
   "cell_type": "markdown",
   "metadata": {
    "id": "CFRzIlr6s5pb"
   },
   "source": [
    "#### Backpropagation\n",
    "\n",
    "You can now implement backward propagation. Note that you will complete the code cell below this, much of the code is already given to you but you need to stick with the notation established.\n",
    "\n",
    "NOTATION: in general for a generic numpy array `M` and a function $F$ with the entries of `M` as inputs, denote by `dM` the numpy array representing the gradient of $F$ with respect to `M`. More precisely `dM` contains the partial derivatives of $F$ with respect to the entries of `M`. For example if\n",
    "$$M = \\begin{pmatrix} a_{0,0} & a_{0,1} & a_{0,2} \\\\ a_{1,0} & a_{1,1} &  a_{1,2}\\end{pmatrix}$$ and $F$ is a function of $a_{0,0},a_{0,1},a_{0,2},a_{1,0},a_{1,1},a_{1,2}$ then $$dM = \\begin{pmatrix} \\frac{\\partial F}{\\partial a_{0,0}} & \\frac{\\partial F}{\\partial a_{0,1}} & \\frac{\\partial F}{\\partial a_{0,2}} \\\\ \\frac{\\partial F}{\\partial a_{1,0}} & \\frac{\\partial F}{\\partial a_{1,1}} & \\frac{\\partial F}{\\partial a_{1,2}}\\end{pmatrix}.$$\n",
    "\n",
    "Throught this project $F$ will be the cost function $J$.\n",
    "\n",
    "**Complete the function `backward_propagation()` started below.** It takes in a dictionary `parameters` containing the current parameters, `y_hat`,`X` and `y` and it returns a dictionary containing the gradients `dW` and `db` of the cost function with respect to the trainable parameters `W` and `b`. \n",
    "\n",
    "You are given the key code for calculating `dW` and `db`, it is, in the notation already established.\n",
    "\n",
    "`dz = y_hat - y\n",
    "dW = np.dot(dz, X.T)/m\n",
    "db = np.sum(dz, axis=1, keepdims=True)/m`\n",
    "\n",
    "You will see these lines of code in the cell below.\n",
    "\n",
    "**Once you have completed the code run this cell.**\n"
   ]
  },
  {
   "cell_type": "code",
   "execution_count": 53,
   "metadata": {
    "id": "Kfoudw0NrZav"
   },
   "outputs": [],
   "source": [
    "def backward_propagation(parameters, y_hat, X, y):\n",
    "    \"\"\"\n",
    "    Implement the backward propagation.\n",
    "\n",
    "    Arguments:\n",
    "    parameters -- python dictionary containing W and b to use\n",
    "    y_hat - from output of forward prop\n",
    "    X -- input data\n",
    "    y -- labels vector\n",
    "\n",
    "    Returns:\n",
    "    grads -- python dictionary containing the gradients\n",
    "    \"\"\"\n",
    "    # Retrieve the number of training examples from the shape of y\n",
    "    m = y.shape[1]\n",
    "\n",
    "    # retrieve W from the dictionary \"parameters\".\n",
    "    W = parameters['W']\n",
    "\n",
    "    # Backward propagation: calculate dW, and db.\n",
    "    dz = y_hat - y\n",
    "    dW = np.dot(dz, X.T)/m\n",
    "    db = np.sum(dz, axis=1, keepdims=True)/m\n",
    "\n",
    "    grads = {\"dW\": dW,\n",
    "             \"db\": db}\n",
    "\n",
    "    return grads"
   ]
  },
  {
   "cell_type": "markdown",
   "metadata": {
    "id": "cMyWLnBXwGDj"
   },
   "source": [
    "#### Update parameters\n",
    "\n",
    "Next you will define a function to update parameters using gradient descent. In a similar way to that seen in task A2,\n",
    "\n",
    "1. $W$ will be updated to\n",
    "\n",
    "$$W - dW\\times \\text{learning rate}.$$\n",
    "\n",
    "and\n",
    "\n",
    "2. $b$ will be updated to$$b - db\\times\\text{learning rate}.$$\n",
    "\n",
    "**Complete the function `update_parameters()` started below.** It takes in the dictionary `parameters` containing the current parameters `W` and `b`, the dictionary `grads` containing the current gradient `dW`,`dB` and the learning rate (which defaults to the value $1.2$). **Once you have completed the code run this cell.**"
   ]
  },
  {
   "cell_type": "code",
   "execution_count": 54,
   "metadata": {
    "id": "SDLtIC96rZaw"
   },
   "outputs": [],
   "source": [
    "def update_parameters(parameters, grads, learning_rate = 1.2):\n",
    "    \"\"\"\n",
    "    Arguments:\n",
    "    parameters -- python dictionary containing the parameters\n",
    "    grads -- python dictionary containing the gradients\n",
    "\n",
    "    Returns:\n",
    "    parameters -- python dictionary containing the updated parameters\n",
    "    \"\"\"\n",
    "    # Retrieve a copy of each parameter from the dictionary \"parameters\". Use copy.deepcopy(...) for W\n",
    "    \n",
    "    W = copy.deepcopy(parameters[\"W\"])\n",
    "    b = parameters['b']\n",
    "\n",
    "    # Retrieve each gradient from the dictionary \"grads\"\n",
    "    dW = grads['dW']\n",
    "    db = grads['db']\n",
    "\n",
    "    # Update each parameter\n",
    "    W = W - learning_rate*dW\n",
    "    b = b - learning_rate*db\n",
    "\n",
    "    # Store the new parameters in the dictionary parameters\n",
    "    parameters = {\"W\":W,\n",
    "                  \"b\":b}\n",
    "\n",
    "    return parameters"
   ]
  },
  {
   "cell_type": "markdown",
   "metadata": {
    "id": "R5nweAhNwpSn"
   },
   "source": [
    "#### Model\n",
    "\n",
    "Now you will put everything together into a function `model` where you will apply `update_parameters` iteratively to update the parameters a number of times.\n",
    "\n",
    "**Complete the function `model` started below.** It takes as inputs the training data `X`, `y`, a positive integer `num_iterations` which is the number of times the parameters will be updated (defaulting to $10,000$) and a boolean `print_cost` which, when set to `True`, will mean the function prints out some costs as the values of the parameters are updated). `model` return a dictionary containing the optimised parameters at the end of this process. **Once you have completed the code run this cell.**"
   ]
  },
  {
   "cell_type": "code",
   "execution_count": 55,
   "metadata": {
    "id": "fktAz0CmrZaw"
   },
   "outputs": [],
   "source": [
    "def model(X, y, num_iterations = 10000, print_cost=False):\n",
    "    \"\"\"\n",
    "    Arguments:\n",
    "    X -- numpy array, input data\n",
    "    y -- numpy array, true labels\n",
    "    num_iterations -- number of iterations in the gradient descent loop\n",
    "    print_cost -- if True, print the cost every 1000 iterations\n",
    "\n",
    "    Returns:\n",
    "    parameters -- python dictionary which contains the optimized parameters\n",
    "                  learnt by the model.\n",
    "    \"\"\"\n",
    "    # Optional: to control the random seed of the initialization uncomment next line:\n",
    "    # np.random.seed(3)\n",
    "\n",
    "    # retrieve n_x and n_y from X and y\n",
    "    n_X = X.shape[0]\n",
    "    n_y = y.shape[0]\n",
    "\n",
    "    # Initialize parameters\n",
    "    parameters = initialize_parameters(n_X,n_y)\n",
    "\n",
    "    # Training loop (gradient descent)\n",
    "    for i in range(0, num_iterations):\n",
    "\n",
    "        # Forward propagation\n",
    "        y_hat, z = forward_propagation(X, parameters)\n",
    "\n",
    "        # Compute the cost\n",
    "        cost = compute_cost(y_hat, y)\n",
    "\n",
    "        # Backpropagation\n",
    "        grads = backward_propagation(parameters, y_hat, X, y)\n",
    "\n",
    "        # Update parameters (use learning_rate = 1.2)\n",
    "        parameters = update_parameters(parameters, grads)\n",
    "\n",
    "        # Print the cost every 1000 iterations\n",
    "        if print_cost and i % 1000 == 0:\n",
    "            print (\"Cost after iteration %i: %f\" %(i, cost))\n",
    "            \n",
    "    learned_parameters = parameters\n",
    "    \n",
    "    # return learned parameters\n",
    "    return learned_parameters"
   ]
  },
  {
   "cell_type": "markdown",
   "metadata": {
    "id": "rJ9E2dBTFzgV"
   },
   "source": [
    "#### Predict on new data\n",
    "\n",
    "Below you are given a complete function `predict` that uses the learned parameters (output of `model`) and the `forward_propagation` function to predict a class for each example in the input matrix `X`. **Run the code cell below.**"
   ]
  },
  {
   "cell_type": "code",
   "execution_count": 56,
   "metadata": {
    "id": "sh78XGwPrZax"
   },
   "outputs": [],
   "source": [
    "def predict(learned_parameters, X):\n",
    "    \"\"\"\n",
    "    Arguments:\n",
    "    parameters -- python dictionary containing the learned parameters given by model\n",
    "    X -- numpy array input data\n",
    "\n",
    "    Returns\n",
    "    predictions -- vector of predictions for each column of X (red: 0 / blue: 1)\n",
    "    \"\"\"\n",
    "\n",
    "    # Compute predicted probabilities using the learned parameters\n",
    "    \n",
    "    y_hat, z = forward_propagation(X, learned_parameters)\n",
    "\n",
    "    # Classify as 0 or 1 using 0.5 as a threshold\n",
    "    \n",
    "    predictions = (y_hat > 0.5)\n",
    "\n",
    "    return predictions"
   ]
  },
  {
   "cell_type": "markdown",
   "metadata": {
    "id": "vu4daNs3Mfdd"
   },
   "source": [
    "#### Plot the results and calculate accuracy\n",
    "\n",
    "You are given the complete function `plot_decision_boundary` below which plots the decision boundary of the trained model along with the original data. It takes as arguments the `learned_parameters` (as output by the `model` function), the model, the training examples `X` and the true labels `y`. **Run the code cell below.**"
   ]
  },
  {
   "cell_type": "code",
   "execution_count": 57,
   "metadata": {
    "id": "fSqdDEgarZax"
   },
   "outputs": [],
   "source": [
    "# Function to plot decision boundary\n",
    "\n",
    "def plot_decision_boundary(learned_parameters, X, y):\n",
    "\n",
    "    # Set min and max values and give it some padding\n",
    "    x_min, x_max = X[0, :].min() - 1, X[0, :].max() + 1\n",
    "    y_min, y_max = X[1, :].min() - 1, X[1, :].max() + 1\n",
    "    h = 0.01\n",
    "\n",
    "    # Generate a grid of points with distance h between them\n",
    "    xx, yy = np.meshgrid(np.arange(x_min, x_max, h), np.arange(y_min, y_max, h))\n",
    "\n",
    "    # Predict the function value for the whole grid\n",
    "    Z = predict(learned_parameters,np.c_[xx.ravel(), yy.ravel()].T)\n",
    "    Z = Z.reshape(xx.shape)\n",
    "\n",
    "    # Plot the contour and training examples\n",
    "    plt.contourf(xx, yy, Z, cmap=plt.cm.Spectral)\n",
    "    plt.ylabel('x1')\n",
    "    plt.xlabel('x0')\n",
    "    plt.scatter(X[0, :], X[1, :], c=y, cmap=plt.cm.Spectral)\n",
    "    plt.title(\"Decision Boundary\")\n",
    "    plt.show()"
   ]
  },
  {
   "cell_type": "markdown",
   "metadata": {
    "id": "EO8JcjrNUFj4"
   },
   "source": [
    "Now you can train your model using the training examples, and plot the decision boundary for the learned parameters, alongside the orginal data. **Run the code cell below**."
   ]
  },
  {
   "cell_type": "code",
   "execution_count": null,
   "metadata": {},
   "outputs": [],
   "source": []
  },
  {
   "cell_type": "code",
   "execution_count": 58,
   "metadata": {
    "id": "2ncPhjeRrZax"
   },
   "outputs": [
    {
     "name": "stdout",
     "output_type": "stream",
     "text": [
      "Cost after iteration 0: 0.694565\n",
      "Cost after iteration 1000: 0.673146\n",
      "Cost after iteration 2000: 0.673146\n",
      "Cost after iteration 3000: 0.673146\n",
      "Cost after iteration 4000: 0.673146\n",
      "Cost after iteration 5000: 0.673146\n",
      "Cost after iteration 6000: 0.673146\n",
      "Cost after iteration 7000: 0.673146\n",
      "Cost after iteration 8000: 0.673146\n",
      "Cost after iteration 9000: 0.673146\n"
     ]
    },
    {
     "data": {
      "image/png": "[encoded data removed]",
      "text/plain": [
       "<Figure size 640x480 with 1 Axes>"
      ]
     },
     "metadata": {},
     "output_type": "display_data"
    }
   ],
   "source": [
    "# Train your model\n",
    "learned_parameters = model(X, y, num_iterations = 10000, print_cost=True)\n",
    "\n",
    "# Plot the decision boundary\n",
    "plot_decision_boundary(learned_parameters, X, y)\n"
   ]
  },
  {
   "cell_type": "markdown",
   "metadata": {
    "id": "4mr5va51Ydcs"
   },
   "source": [
    "As you should see logistic regression doesn't do a good job in predicting the labels for this dataset. This is because the dataset is not linearly separable, and therefore a simple logistic regression performs poorly on this data. \n",
    "\n",
    "**Complete the code cell below with a formula for the accuracy of the model**. This should be the precentage of points for which the model gives the correct classification. **Then run the cell.**"
   ]
  },
  {
   "cell_type": "code",
   "execution_count": 60,
   "metadata": {
    "id": "gc-R7PPGrZay"
   },
   "outputs": [
    {
     "name": "stdout",
     "output_type": "stream",
     "text": [
      "Accuracy of logistic regression: 47 % (percentage of correctly labelled datapoints)\n"
     ]
    }
   ],
   "source": [
    "# Print accuracy\n",
    "\n",
    "predictions = predict(learned_parameters, X)\n",
    "\n",
    "\n",
    "correct = 0\n",
    "for i in range(predictions.shape[1]):\n",
    "    if predictions[0][i] == y[0][i]:\n",
    "        correct += 1\n",
    "\n",
    "accuracy = correct / predictions.shape[1] * 100\n",
    "    \n",
    "print ('Accuracy of logistic regression: %d ' % accuracy +\n",
    "       '% ' + \"(percentage of correctly labelled datapoints)\")"
   ]
  },
  {
   "cell_type": "markdown",
   "metadata": {
    "id": "WwWhKThGwO9S"
   },
   "source": [
    "## A4 - Build a hidden layer Neural Network (worth approximately 20% of the marks)\n",
    "\n",
    "You are now going to build a full Neural Network with one hidden layer. This will allow to model to learn more complex decision boundaries and not just linear ones. This will result in an improved model compared to that you obtained in task A3. \n",
    "\n",
    "In practice you are going to repeat all the steps of task A3 but this time with an extra layer to the network. Set the hidden layer to have 4 neurons (in the code this dimension is denoted `n_h`). You may find it helpful to refer to the project lecture when you are completing this section.\n",
    "\n",
    "The forward propagation has the form `linear`->`tanh`->`linear`->`sigmoid`. So this will take the form below where $W$ and $T$ are appropriately sized matrices containing weights and $b$ and $c$ are appropriately sized column vectors for the biases (some of the dimensions of these objects will now depend on `n_h`). The input matrix $X$ is the same as in task A3, $z$, $a$, $v$ give intermediate output with $\\hat y$ the final output.\n",
    "\n",
    "$$\n",
    "z = W\\cdot X + b \\\\\n",
    "a = \\tanh(z) \\\\\n",
    "v = T \\cdot a + c \\\\\n",
    "\\hat y = \\sigma(v)\n",
    "$$\n",
    "\n",
    "The code for the new backward propogation function, in this notation, is as follows and you can cut and paste this into your code as appropriate.\n",
    "\n",
    "`dv = y_hat - y\n",
    "dT = np.dot(dv, a.T)/m\n",
    "dc = np.sum(dv, axis=1, keepdims=True)/m\n",
    "dz = np.dot(T.T, dv) * (1 - np.power(a, 2))\n",
    "dW = np.dot(dz, X.T)/m\n",
    "db = np.sum(dz, axis=1, keepdims=True)/m`"
   ]
  },
  {
   "cell_type": "markdown",
   "metadata": {
    "id": "WiUc-mOUwO9T"
   },
   "source": [
    "The cost is the same as for logistic regression, so there is no need to implement it again."
   ]
  },
  {
   "cell_type": "markdown",
   "metadata": {
    "id": "uE5OXXV9wO9X"
   },
   "source": [
    "#### Neural Network Model\n",
    "\n",
    "Below gives a basic structure for your final model, you need to build all the helper functions from scratch this time.\n",
    "\n",
    "**Specifically, using an approach similar to that seen in A3, you should**\n",
    "\n",
    "- Complete the function below `model_nn`, including all the necessary helper functions.\n",
    "- Include a function `predict` which takes in the dictionary of paremeters and input data 'X' and returns predictions of the labels for each example.\n",
    "- Produce a visualisation of the regions of the plane predicted to be red/blue by your model and the original data.\n",
    "- Calculate and print the accuracy of the model (the percentage of points for which the model predicts the correct label).\n",
    "- Make some comments, in a markdown cell, which compare the model developed in A3 to the model developed in A4.\n",
    "\n",
    "**You may use code from Task A3 here but be careful to rename functions and variables as appropriate to avoid clashes with any values established for this notebook in Task A3.**\n",
    "\n",
    "*Edit the code cell below and insert further code and markdown cells in which to answer this task*"
   ]
  },
  {
   "cell_type": "code",
   "execution_count": null,
   "metadata": {
    "id": "VjKhdq5SwO9X",
    "nbgrader": {
     "cell_type": "code",
     "checksum": "461c83f5d15193186d8b122d0a451895",
     "grade": false,
     "grade_id": "cell-25f5e3e9b4ef006f",
     "locked": false,
     "schema_version": 3,
     "solution": true,
     "task": false
    }
   },
   "outputs": [],
   "source": [
    "def model_nn(X, y, n_h = 4, num_iterations = 10000, print_cost=False):\n",
    "    \"\"\"\n",
    "    Arguments:\n",
    "    X -- numpy array, input data\n",
    "    y -- numpy array, true labels\n",
    "    n_h -- integer, number of neurons in the hidden layer\n",
    "    num_iterations -- number of iterations in the gradient descent loop\n",
    "    print_cost -- if True, print the cost every 1000 iterations\n",
    "\n",
    "    Returns:\n",
    "    parameters -- optimized parameters learnt by the model.\n",
    "    \"\"\"\n",
    "    # Optional: to control the random seed of the initialization uncomment next line\n",
    "    # np.random.seed(3)\n",
    "\n",
    "    # retrieve n_x and n_y\n",
    "\n",
    "    # Initialize parameters\n",
    "\n",
    "    # Training loop\n",
    "    for i in range(0, num_iterations):\n",
    "\n",
    "        # Forward propagation\n",
    "\n",
    "        # Compute cost\n",
    "\n",
    "        # Backpropagation\n",
    "\n",
    "        # Update parameters\n",
    "\n",
    "        # Print the cost every 1000 iterations\n",
    "        if print_cost and i % 1000 == 0:\n",
    "            print (\"Cost after iteration %i: %f\" %(i, cost))\n",
    "\n",
    "    return learned_parameters"
   ]
  },
  {
   "cell_type": "markdown",
   "metadata": {
    "id": "zdy5ZO9wCwAD"
   },
   "source": [
    "---\n",
    "### Section B (worth approximately 40%)\n",
    "\n",
    "Remember you are free to use sklearn in this section.\n",
    "#### Task B1\n",
    "\n",
    "- How can we further improve neural networks? You may wish to talk about underfitting, overfitting, regularisation and use examples to illustrate you ideas.\n",
    "\n",
    "#### Task B2\n",
    "- What are some other machine learning models (e.g. decision trees). Give some examples. What are improvements to these (e.g random forest, xgboost in the case of decision trees)?\n",
    "\n",
    "You may wish to use datasets from https://archive.ics.uci.edu/ in this section.\n",
    "\n",
    "----"
   ]
  },
  {
   "cell_type": "markdown",
   "metadata": {
    "id": "q8URTe1gCwAD"
   },
   "source": [
    "## Notes about this submission\n",
    "\n",
    "You will submit a single Jupyter notebook for this project assignment. Details will be provided for this on the MA124 Moodle page.\n",
    "\n",
    "- The last thing you should do before submitting the notebook is to Restart Kernel and Run All Cells. You should then save the notebook and submit the .ipynb file. **You will lose marks if you submit a notebook that has not been run.**\n",
    "\n",
    "- You are expected to add code and markdown cells to this document as appropriate to provide your responses to the tasks. Instructions about this are given throughout but feel free to add markdown cells at any point to provide clarity or comments.\n",
    "\n",
    "- Likewise, to help the reader, please provide appropriate comments in your code (for example functions or blocks of code should have comments about what they do, variables should be described in comments, as appropriate)."
   ]
  }
 ],
 "metadata": {
  "colab": {
   "provenance": []
  },
  "kernelspec": {
   "display_name": "Python 3",
   "language": "python",
   "name": "python3"
  },
  "language_info": {
   "codemirror_mode": {
    "name": "ipython",
    "version": 3
   },
   "file_extension": ".py",
   "mimetype": "text/x-python",
   "name": "python",
   "nbconvert_exporter": "python",
   "pygments_lexer": "ipython3",
   "version": "3.12.1"
  }
 },
 "nbformat": 4,
 "nbformat_minor": 4
}
